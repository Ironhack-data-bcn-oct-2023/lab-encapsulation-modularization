{
 "cells": [
  {
   "cell_type": "markdown",
   "id": "4d6436d8",
   "metadata": {},
   "source": [
    "# Create functions re-using the code from Iteration 1"
   ]
  },
  {
   "cell_type": "code",
   "execution_count": 1,
   "id": "e3ec3d74",
   "metadata": {},
   "outputs": [],
   "source": [
    "import os\n",
    "import pandas as pd"
   ]
  },
  {
   "cell_type": "markdown",
   "id": "6064c879",
   "metadata": {},
   "source": [
    "## Challenge 1: downloading function"
   ]
  },
  {
   "cell_type": "markdown",
   "id": "b10e2c30",
   "metadata": {},
   "source": [
    "- Params\n",
    "    - url\n",
    "    - name (of the file)\n",
    " \n",
    "- Return: the dataframne\n",
    "- Downloads the passed url into the data folder with the given name. \n",
    "- After downloading, it will assign the `df` variable to the csv according to its path."
   ]
  },
  {
   "cell_type": "code",
   "execution_count": 9,
   "id": "8c91ab44",
   "metadata": {},
   "outputs": [],
   "source": [
    "def downloading (url, name):\n",
    "    \"\"\"\n",
    "    Download a file from a given URL and save it with a specified name in the 'data' directory.\n",
    "    Create a pandas dataframe with the downloaded file and return it\n",
    "\n",
    "    Parameters:\n",
    "        url (str): The URL of the file to be downloaded.\n",
    "        name (str): The name to be used for the downloaded file.\n",
    "\n",
    "    Returns:\n",
    "        int: The return code of the shell command executed for downloading (0 for success, non-zero for failure).\n",
    "\n",
    "    Example:\n",
    "        return_code = downloading('https://example.com/datafile.csv', 'downloaded_data.csv')\n",
    "    \"\"\"\n",
    "    os.system(f\"curl {url} > data/{name}\")\n",
    "    return pd.read_csv(f\"data/{name}\")"
   ]
  },
  {
   "cell_type": "markdown",
   "id": "8cb28fb6",
   "metadata": {},
   "source": [
    "## Challenge 2: Cleaning function"
   ]
  },
  {
   "cell_type": "markdown",
   "id": "5135c162",
   "metadata": {},
   "source": [
    "- Params\n",
    "    - receives a dataframe\n",
    " \n",
    "- Return: the clean dataframe.\n",
    "- Cleans the dataframe and exports a cleaned version. It will assign the `df` variable to the csv according to its path."
   ]
  },
  {
   "cell_type": "code",
   "execution_count": 4,
   "id": "82a9cb25",
   "metadata": {},
   "outputs": [],
   "source": [
    "def basic_cleaning(df, cleaned_file_name):\n",
    "    \"\"\"\n",
    "    Perform basic data cleaning on a DataFrame and export the cleaned data to a CSV file.\n",
    "\n",
    "    This function removes duplicates, handles missing values, and renames columns.\n",
    "\n",
    "    Parameters:\n",
    "        df (pd.DataFrame): The input DataFrame to be cleaned.\n",
    "        output_path (str): The file path where the cleaned DataFrame should be exported as a CSV file.\n",
    "\n",
    "    Returns:\n",
    "        Cleaned dataframe\n",
    "\n",
    "    Example:\n",
    "        basic_cleaning(my_dataframe, 'cleaned_data.csv')\n",
    "    \"\"\"\n",
    "    df.dropna(how=\"any\", inplace=True)\n",
    "\n",
    "    df.columns = [i.lower().replace(\" \", \"_\") for i in df.columns]\n",
    "\n",
    "    df.to_csv(f\"data/{cleaned_file_name}\", index=False)\n",
    "\n",
    "    return df"
   ]
  },
  {
   "cell_type": "markdown",
   "id": "d93b803e",
   "metadata": {},
   "source": [
    "## Challenge 3: Visualization function"
   ]
  },
  {
   "cell_type": "markdown",
   "id": "d7cf41f0",
   "metadata": {},
   "source": [
    "- Params\n",
    "    - receives a dataframe\n",
    "    - receives the name of the exported file\n",
    " \n",
    "- Return: not needed\n",
    "- Exports a figure into the images folder and opens it."
   ]
  },
  {
   "cell_type": "code",
   "execution_count": 6,
   "id": "ea7d750b",
   "metadata": {},
   "outputs": [],
   "source": [
    "def visualizing (df, file_name):\n",
    "    \"\"\"\n",
    "    Create a bar plot from grouped data and export it as an image.\n",
    "\n",
    "    Parameters:\n",
    "        grouped_data (pd.DataFrame): The grouped data to be used for the bar plot.\n",
    "        output_filename (str): The name for the exported image file.\n",
    "\n",
    "    Returns:\n",
    "        None\n",
    "    \"\"\"\n",
    "    # plot info will be ...\n",
    "    grouped_data = df.groupby('type')['averageprice'].mean()\n",
    "\n",
    "    # make plot\n",
    "    ax = grouped_data.plot(kind='bar')\n",
    "    \n",
    "    # set labels and title\n",
    "    ax.set_xlabel(grouped_data.index.name)    \n",
    "\n",
    "    # set x-axis tick labels and rotation\n",
    "    ax.set_xticklabels(grouped_data.index, rotation=0)  \n",
    "\n",
    "    # save the figure as an image\n",
    "    ax.get_figure().savefig(f'images/{file_name}.png')   \n",
    "\n",
    "    # open the saved image\n",
    "    os.system(f'start images/{file_name}.png') "
   ]
  },
  {
   "cell_type": "markdown",
   "id": "7c7bc0bd",
   "metadata": {},
   "source": [
    "## Challenge 4: Document the functions"
   ]
  },
  {
   "cell_type": "markdown",
   "id": "a7bf220a",
   "metadata": {},
   "source": [
    "- Use docstrings\n",
    "- Use hashtags if necessary"
   ]
  }
 ],
 "metadata": {
  "kernelspec": {
   "display_name": "Python 3",
   "language": "python",
   "name": "python3"
  },
  "language_info": {
   "codemirror_mode": {
    "name": "ipython",
    "version": 3
   },
   "file_extension": ".py",
   "mimetype": "text/x-python",
   "name": "python",
   "nbconvert_exporter": "python",
   "pygments_lexer": "ipython3",
   "version": "3.11.5"
  }
 },
 "nbformat": 4,
 "nbformat_minor": 5
}
